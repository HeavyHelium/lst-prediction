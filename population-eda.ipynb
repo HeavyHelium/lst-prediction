{
 "cells": [
  {
   "cell_type": "markdown",
   "metadata": {},
   "source": [
    "# Population"
   ]
  },
  {
   "cell_type": "code",
   "execution_count": 3,
   "metadata": {},
   "outputs": [],
   "source": [
    "import rasterio as rio\n",
    "import rasterio.mask \n",
    "import pandas as pd \n",
    "import numpy as np\n",
    "import geopandas as gpd \n",
    "import os \n",
    "\n",
    "from rasterio.plot import show, show_hist \n",
    "from rasterstats import zonal_stats "
   ]
  },
  {
   "cell_type": "code",
   "execution_count": 4,
   "metadata": {},
   "outputs": [],
   "source": [
    "import matplotlib.pyplot as plt\n",
    "from rasterio.plot import show"
   ]
  },
  {
   "cell_type": "code",
   "execution_count": 5,
   "metadata": {},
   "outputs": [],
   "source": [
    "sofia_shapefile_path = './shapefiles/sofia.geojson'\n",
    "boundaries = gpd.read_file(sofia_shapefile_path)"
   ]
  },
  {
   "cell_type": "markdown",
   "metadata": {},
   "source": [
    "Now let's see how the population changes over the period. To achieve this: \n",
    "* load rasters \n",
    "* clip rasters according to the sofia municipality boundaries  \n",
    "* extral zonal statistics"
   ]
  },
  {
   "cell_type": "code",
   "execution_count": 6,
   "metadata": {},
   "outputs": [],
   "source": [
    "files_paths = []"
   ]
  },
  {
   "cell_type": "code",
   "execution_count": 7,
   "metadata": {},
   "outputs": [],
   "source": [
    "for root, dirs, files in os.walk('./data/population-ghs'):\n",
    "    for file in files:\n",
    "        if file.endswith('.tif'):\n",
    "            raster_path = os.path.join(root, file)\n",
    "            raster = rio.open(raster_path)\n",
    "            files_paths.append((raster_path, file.split('.')[0]))"
   ]
  },
  {
   "cell_type": "code",
   "execution_count": 17,
   "metadata": {},
   "outputs": [
    {
     "data": {
      "text/plain": [
       "[('./data/population-ghs/1975.tif', '1975'),\n",
       " ('./data/population-ghs/1980.tif', '1980'),\n",
       " ('./data/population-ghs/1985.tif', '1985'),\n",
       " ('./data/population-ghs/1990.tif', '1990'),\n",
       " ('./data/population-ghs/1995.tif', '1995'),\n",
       " ('./data/population-ghs/2000.tif', '2000'),\n",
       " ('./data/population-ghs/2005.tif', '2005'),\n",
       " ('./data/population-ghs/2010.tif', '2010'),\n",
       " ('./data/population-ghs/2015.tif', '2015'),\n",
       " ('./data/population-ghs/2020.tif', '2020')]"
      ]
     },
     "execution_count": 17,
     "metadata": {},
     "output_type": "execute_result"
    }
   ],
   "source": [
    "files_paths = sorted(files_paths, key=lambda x: x[1])\n",
    "files_paths"
   ]
  },
  {
   "cell_type": "code",
   "execution_count": 18,
   "metadata": {},
   "outputs": [],
   "source": [
    "raster = rio.open(files_paths[0][0])"
   ]
  },
  {
   "cell_type": "code",
   "execution_count": 19,
   "metadata": {},
   "outputs": [],
   "source": [
    "boundaries = boundaries.to_crs(raster.crs.data)\n"
   ]
  },
  {
   "cell_type": "code",
   "execution_count": 20,
   "metadata": {},
   "outputs": [],
   "source": [
    "stats = []"
   ]
  },
  {
   "cell_type": "code",
   "execution_count": 21,
   "metadata": {},
   "outputs": [],
   "source": [
    "def get_zonal_stats(raster, boundaries):\n",
    "    year = raster.name.split('.')[1].split('/')[-1]\n",
    "    #print(f'Processing {year}')\n",
    "    res = zonal_stats(boundaries, raster.read(1), stats=['sum', 'mean', 'std', 'min', 'max'], affine=raster.transform, nodata=raster.nodata, geojson_out=True)\n",
    "    stats.append((year, res[0]['properties']['sum'], res[0]['properties']['mean'], res[0]['properties']['std'], res[0]['properties']['min'], res[0]['properties']['max']))"
   ]
  },
  {
   "cell_type": "code",
   "execution_count": 22,
   "metadata": {},
   "outputs": [],
   "source": [
    "for path, name in files_paths:\n",
    "    raster = rio.open(path)\n",
    "    get_zonal_stats(raster, boundaries)"
   ]
  },
  {
   "cell_type": "code",
   "execution_count": 23,
   "metadata": {},
   "outputs": [],
   "source": [
    "pop_stats = pd.DataFrame(stats)\n",
    "pop_stats.columns = ['year', 'sum', 'mean', 'std', 'min', 'max']"
   ]
  },
  {
   "cell_type": "code",
   "execution_count": 24,
   "metadata": {},
   "outputs": [],
   "source": [
    "pop_stats.index = pop_stats['year']"
   ]
  },
  {
   "cell_type": "code",
   "execution_count": 25,
   "metadata": {},
   "outputs": [
    {
     "data": {
      "text/html": [
       "<div>\n",
       "<style scoped>\n",
       "    .dataframe tbody tr th:only-of-type {\n",
       "        vertical-align: middle;\n",
       "    }\n",
       "\n",
       "    .dataframe tbody tr th {\n",
       "        vertical-align: top;\n",
       "    }\n",
       "\n",
       "    .dataframe thead th {\n",
       "        text-align: right;\n",
       "    }\n",
       "</style>\n",
       "<table border=\"1\" class=\"dataframe\">\n",
       "  <thead>\n",
       "    <tr style=\"text-align: right;\">\n",
       "      <th></th>\n",
       "      <th>year</th>\n",
       "      <th>sum</th>\n",
       "      <th>mean</th>\n",
       "      <th>std</th>\n",
       "      <th>min</th>\n",
       "      <th>max</th>\n",
       "    </tr>\n",
       "    <tr>\n",
       "      <th>year</th>\n",
       "      <th></th>\n",
       "      <th></th>\n",
       "      <th></th>\n",
       "      <th></th>\n",
       "      <th></th>\n",
       "      <th></th>\n",
       "    </tr>\n",
       "  </thead>\n",
       "  <tbody>\n",
       "    <tr>\n",
       "      <th>1975</th>\n",
       "      <td>1975</td>\n",
       "      <td>738287.676975</td>\n",
       "      <td>7.920182</td>\n",
       "      <td>29.374498</td>\n",
       "      <td>0.0</td>\n",
       "      <td>468.920074</td>\n",
       "    </tr>\n",
       "    <tr>\n",
       "      <th>1980</th>\n",
       "      <td>1980</td>\n",
       "      <td>811434.300755</td>\n",
       "      <td>8.704882</td>\n",
       "      <td>31.147616</td>\n",
       "      <td>0.0</td>\n",
       "      <td>487.400665</td>\n",
       "    </tr>\n",
       "    <tr>\n",
       "      <th>1985</th>\n",
       "      <td>1985</td>\n",
       "      <td>891907.020097</td>\n",
       "      <td>9.568175</td>\n",
       "      <td>33.225681</td>\n",
       "      <td>0.0</td>\n",
       "      <td>507.745209</td>\n",
       "    </tr>\n",
       "    <tr>\n",
       "      <th>1990</th>\n",
       "      <td>1990</td>\n",
       "      <td>898749.584956</td>\n",
       "      <td>9.641581</td>\n",
       "      <td>32.670202</td>\n",
       "      <td>0.0</td>\n",
       "      <td>486.019501</td>\n",
       "    </tr>\n",
       "    <tr>\n",
       "      <th>1995</th>\n",
       "      <td>1995</td>\n",
       "      <td>881262.202460</td>\n",
       "      <td>9.453980</td>\n",
       "      <td>30.906634</td>\n",
       "      <td>0.0</td>\n",
       "      <td>425.657196</td>\n",
       "    </tr>\n",
       "    <tr>\n",
       "      <th>2000</th>\n",
       "      <td>2000</td>\n",
       "      <td>850258.093203</td>\n",
       "      <td>9.121375</td>\n",
       "      <td>29.111011</td>\n",
       "      <td>0.0</td>\n",
       "      <td>383.250916</td>\n",
       "    </tr>\n",
       "    <tr>\n",
       "      <th>2005</th>\n",
       "      <td>2005</td>\n",
       "      <td>879760.972260</td>\n",
       "      <td>9.437875</td>\n",
       "      <td>29.109514</td>\n",
       "      <td>0.0</td>\n",
       "      <td>381.223297</td>\n",
       "    </tr>\n",
       "    <tr>\n",
       "      <th>2010</th>\n",
       "      <td>2010</td>\n",
       "      <td>914399.251710</td>\n",
       "      <td>9.809467</td>\n",
       "      <td>29.404790</td>\n",
       "      <td>0.0</td>\n",
       "      <td>401.784058</td>\n",
       "    </tr>\n",
       "    <tr>\n",
       "      <th>2015</th>\n",
       "      <td>2015</td>\n",
       "      <td>943964.065054</td>\n",
       "      <td>10.126631</td>\n",
       "      <td>29.705601</td>\n",
       "      <td>0.0</td>\n",
       "      <td>416.910095</td>\n",
       "    </tr>\n",
       "    <tr>\n",
       "      <th>2020</th>\n",
       "      <td>2020</td>\n",
       "      <td>976251.149620</td>\n",
       "      <td>10.473000</td>\n",
       "      <td>30.281210</td>\n",
       "      <td>0.0</td>\n",
       "      <td>422.564728</td>\n",
       "    </tr>\n",
       "  </tbody>\n",
       "</table>\n",
       "</div>"
      ],
      "text/plain": [
       "      year            sum       mean        std  min         max\n",
       "year                                                            \n",
       "1975  1975  738287.676975   7.920182  29.374498  0.0  468.920074\n",
       "1980  1980  811434.300755   8.704882  31.147616  0.0  487.400665\n",
       "1985  1985  891907.020097   9.568175  33.225681  0.0  507.745209\n",
       "1990  1990  898749.584956   9.641581  32.670202  0.0  486.019501\n",
       "1995  1995  881262.202460   9.453980  30.906634  0.0  425.657196\n",
       "2000  2000  850258.093203   9.121375  29.111011  0.0  383.250916\n",
       "2005  2005  879760.972260   9.437875  29.109514  0.0  381.223297\n",
       "2010  2010  914399.251710   9.809467  29.404790  0.0  401.784058\n",
       "2015  2015  943964.065054  10.126631  29.705601  0.0  416.910095\n",
       "2020  2020  976251.149620  10.473000  30.281210  0.0  422.564728"
      ]
     },
     "execution_count": 25,
     "metadata": {},
     "output_type": "execute_result"
    }
   ],
   "source": [
    "pop_stats "
   ]
  },
  {
   "cell_type": "code",
   "execution_count": 141,
   "metadata": {},
   "outputs": [],
   "source": [
    "pop_stats.to_json('./stats/population_stats.json')"
   ]
  },
  {
   "cell_type": "code",
   "execution_count": 26,
   "metadata": {},
   "outputs": [],
   "source": [
    "def plot_stats(stats, column, title):\n",
    "    plt.plot(stats['year'], stats[column])\n",
    "    plt.title(title)\n",
    "    plt.show()"
   ]
  },
  {
   "cell_type": "code",
   "execution_count": 27,
   "metadata": {},
   "outputs": [
    {
     "data": {
      "image/png": "[encoded data removed]",
      "text/plain": [
       "<Figure size 640x480 with 1 Axes>"
      ]
     },
     "metadata": {},
     "output_type": "display_data"
    }
   ],
   "source": [
    "plot_stats(pop_stats, 'sum', 'Population count')"
   ]
  },
  {
   "cell_type": "code",
   "execution_count": 28,
   "metadata": {},
   "outputs": [
    {
     "data": {
      "application/vnd.jupyter.widget-view+json": {
       "model_id": "70386b2bd7004a9d90279d53dda62bae",
       "version_major": 2,
       "version_minor": 0
      },
      "text/plain": [
       "interactive(children=(SelectionSlider(continuous_update=False, description='Year:', options=(('1975', '1975'),…"
      ]
     },
     "metadata": {},
     "output_type": "display_data"
    },
    {
     "data": {
      "text/plain": [
       "<function __main__.plot_raster(year)>"
      ]
     },
     "execution_count": 28,
     "metadata": {},
     "output_type": "execute_result"
    }
   ],
   "source": [
    "from ipywidgets import interact, interactive, fixed, interact_manual\n",
    "import ipywidgets as widgets\n",
    "\n",
    "year_dict = {i: files_paths[i][1] for i in range(len(files_paths))}\n",
    "\n",
    "def plot_raster(year):\n",
    "    index = list(year_dict.keys())[list(year_dict.values()).index(year)]\n",
    "    raster = rio.open(files_paths[index][0])\n",
    "    clipped_raster, transform = rio.mask.mask(raster, boundaries.geometry, crop=True)\n",
    "    show(clipped_raster[0])\n",
    "    plt.show()\n",
    "\n",
    "year_slider = widgets.SelectionSlider(\n",
    "    options=[(year_dict[i], year_dict[i]) for i in range(len(files_paths))],\n",
    "    value=year_dict[0],\n",
    "    description='Year:',\n",
    "    continuous_update=False\n",
    ")\n",
    "\n",
    "interact(plot_raster, year=year_slider)"
   ]
  }
 ],
 "metadata": {
  "kernelspec": {
   "display_name": ".venv",
   "language": "python",
   "name": "python3"
  },
  "language_info": {
   "codemirror_mode": {
    "name": "ipython",
    "version": 3
   },
   "file_extension": ".py",
   "mimetype": "text/x-python",
   "name": "python",
   "nbconvert_exporter": "python",
   "pygments_lexer": "ipython3",
   "version": "3.10.12"
  }
 },
 "nbformat": 4,
 "nbformat_minor": 2
}
