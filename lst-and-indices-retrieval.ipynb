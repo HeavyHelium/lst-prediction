{
  "nbformat": 4,
  "nbformat_minor": 0,
  "metadata": {
    "colab": {
      "provenance": []
    },
    "kernelspec": {
      "name": "python3",
      "display_name": "Python 3"
    },
    "language_info": {
      "name": "python"
    }
  },
  "cells": [
    {
      "cell_type": "markdown",
      "source": [
        "# Data extraction methodology\n",
        "\n",
        "## Indices\n",
        "* preprocess images\n",
        "* calculate indices\n",
        "\n",
        "We extract the following spectral indices for impervious surfaces, water bodies and vegetation:   \n",
        "* **NDBI**, **NDBaI**\n",
        "* **MNDWI**, **NDWI**,\n",
        "* **NDVI**, **EVI**, **SAVI**\n",
        "\n",
        "\n",
        "## Population density\n",
        "* Use closest GHSL population dataset\n",
        "\n",
        "## LST(Land surface temperature)\n",
        "* Use Landsat Collection 2 Surface temperature bands\n",
        "  * for Landsat 8 - band 10\n",
        "  * for Landsat 4/5/7 - band 6"
      ],
      "metadata": {
        "id": "o8xYCd7zWFY6"
      }
    },
    {
      "cell_type": "code",
      "source": [
        "# !pip install eemont\n",
        "# !pip install ee\n",
        "# !pip install geopandas\n",
        "# !pip install rasterio\n",
        "# !pip install earthengine-api\n",
        "# !pip install earthengine-api --upgrade"
      ],
      "metadata": {
        "id": "aTVdAMXKwHpe"
      },
      "execution_count": null,
      "outputs": []
    },
    {
      "cell_type": "code",
      "source": [
        "import ee\n",
        "import eemont\n",
        "import geopandas as gpd\n",
        "import rasterio\n",
        "import json"
      ],
      "metadata": {
        "id": "_ZuYrtjjwjzP"
      },
      "execution_count": null,
      "outputs": []
    },
    {
      "cell_type": "code",
      "source": [
        "ee.Authenticate()\n",
        "ee.Initialize(project=\"ee-dianamarkovakn\")"
      ],
      "metadata": {
        "id": "HS2NXJVdwn6c"
      },
      "execution_count": null,
      "outputs": []
    },
    {
      "cell_type": "code",
      "source": [
        "aoi = ee.Geometry.Polygon([\n",
        "  [[23.032164119466383, 42.91889685342199],\n",
        "   [23.032164119466383, 42.39372184157957],\n",
        "\n",
        "   [23.710569881185133, 42.39372184157957],\n",
        "   [23.710569881185133, 42.91889685342199]]\n",
        "]);"
      ],
      "metadata": {
        "id": "dVRNZzLvwuC7"
      },
      "execution_count": null,
      "outputs": []
    },
    {
      "cell_type": "code",
      "source": [
        "spectral_incides = ['NDBI', 'NDBaI',\t'MNDWI',\t'NDWI',\t'NDVI',\t'EVI',\t'SAVI']"
      ],
      "metadata": {
        "id": "1DPBw7fY4e4k"
      },
      "execution_count": null,
      "outputs": []
    },
    {
      "cell_type": "code",
      "source": [
        "ST_bands = {'LE07': 'ST_B6',\n",
        "            'LT05': 'ST_B6',\n",
        "            'LC08': 'ST_B10', }\n",
        "\n",
        "Red = {'LE07': 'SR_B3',\n",
        "       'LT05': 'SR_B3',\n",
        "       'LC08': 'SR_B4'}\n",
        "\n",
        "N = {'LE07': 'SR_B4',\n",
        "       'LT05': 'SR_B4',\n",
        "       'LC08': 'SR_B5'}\n",
        "\n",
        "Green = {'LE07': 'SR_B2',\n",
        "         'LT05': 'SR_B2',\n",
        "         'LC08': 'SR_B3'}\n",
        "\n",
        "Blue = {'LE07': 'SR_B1',\n",
        "        'LT05': 'SR_B1',\n",
        "        'LC08': 'SR_B2'}\n",
        "\n",
        "S1 = {'LE07': 'SR_B5',\n",
        "         'LT05': 'SR_B5',\n",
        "         'LC08': 'SR_B6'}\n",
        "\n",
        "S2 = {'LE07': 'SR_B7',\n",
        "         'LT05': 'SR_B7',\n",
        "         'LC08': 'SR_B7'}\n"
      ],
      "metadata": {
        "id": "LswhAQBmRXfR"
      },
      "execution_count": null,
      "outputs": []
    },
    {
      "cell_type": "code",
      "source": [
        "id_list = [{'id': 'LC08_184030_20191015',\n",
        "  'collection': 'LC08',\n",
        "  'season': 'autumn',\n",
        "  'tier': 'T1',\n",
        "  'ghs': 'JRC/GHSL/P2023A/GHS_POP/2020'},]"
      ],
      "metadata": {
        "id": "zq2OpSvR8Z9h"
      },
      "execution_count": null,
      "outputs": []
    },
    {
      "cell_type": "code",
      "source": [
        "from collections import defaultdict\n",
        "from datetime import datetime\n",
        "\n",
        "with open('id_list.json', 'r') as f:\n",
        "   id_list = json.load(f)\n",
        "\n",
        "\n",
        "grouped = defaultdict(lambda: defaultdict(list))\n",
        "for item in id_list:\n",
        "    date_str = item['id'].split('_')[-1]\n",
        "    date = datetime.strptime(date_str, \"%Y%m%d\")\n",
        "    grouped[item['collection']][item['tier']].append(date)\n",
        "\n",
        "# Display the results\n",
        "for collection, tiers in grouped.items():\n",
        "    print(f\"Collection: {collection}\")\n",
        "    for tier, dates in tiers.items():\n",
        "        print(f\"  Tier: {tier}\")\n",
        "        for date in dates:\n",
        "            print(f\"    {date.strftime('%Y-%m-%d')}\")\n",
        "\n"
      ],
      "metadata": {
        "colab": {
          "base_uri": "https://localhost:8080/"
        },
        "id": "xOFC6RIfsPF2",
        "outputId": "9bdab5ae-f500-4c03-87d1-a0bb9a140108"
      },
      "execution_count": null,
      "outputs": [
        {
          "output_type": "stream",
          "name": "stdout",
          "text": [
            "Collection: LE07\n",
            "  Tier: T1\n",
            "    1999-09-30\n",
            "    2001-09-19\n",
            "    2000-05-27\n",
            "    2000-06-12\n",
            "    2000-06-28\n",
            "Collection: LT05\n",
            "  Tier: T1\n",
            "    1999-04-15\n",
            "    2006-10-27\n",
            "    2007-09-28\n",
            "    2006-05-04\n",
            "    2006-05-20\n",
            "    2007-06-24\n",
            "    2007-07-26\n",
            "    2005-02-10\n",
            "    2011-09-23\n",
            "    2009-05-12\n",
            "    2011-08-22\n",
            "    2011-02-11\n",
            "  Tier: T2\n",
            "    2000-01-28\n",
            "Collection: LC08\n",
            "  Tier: T1\n",
            "    2014-10-01\n",
            "    2014-03-23\n",
            "    2014-08-14\n",
            "    2017-09-07\n",
            "    2019-10-15\n",
            "    2017-05-18\n",
            "    2018-04-03\n",
            "    2017-07-05\n",
            "    2019-08-12\n",
            "    2019-02-17\n"
          ]
        }
      ]
    },
    {
      "cell_type": "code",
      "source": [
        "indices = eemont.indices()\n",
        "indices.SAVI.formula\n"
      ],
      "metadata": {
        "colab": {
          "base_uri": "https://localhost:8080/",
          "height": 36
        },
        "id": "L3pHyGy8DX2U",
        "outputId": "3aa2fbbc-cd98-4ac8-808d-5336b71d718c"
      },
      "execution_count": null,
      "outputs": [
        {
          "output_type": "execute_result",
          "data": {
            "text/plain": [
              "'(1.0 + L) * (N - R) / (N + R + L)'"
            ],
            "application/vnd.google.colaboratory.intrinsic+json": {
              "type": "string"
            }
          },
          "metadata": {},
          "execution_count": 12
        }
      ]
    },
    {
      "cell_type": "code",
      "source": [
        "def collect_indices():\n",
        "    for item in id_list:\n",
        "        date_str = item['id'].split('_')[-1]\n",
        "        date: str  = datetime.strptime(date_str, \"%Y%m%d\")\n",
        "        image_loc: str = f\"LANDSAT/{item['collection']}/C02/{item['tier']}_L2/{item['id']}\"\n",
        "        print(f\"image loc: {image_loc}, {date.strftime('%Y-%m-%d')}\")\n",
        "\n",
        "        sat = ee.Image(image_loc).maskClouds().resample('bilinear')\n",
        "        pop = ee.Image(item['ghs']).resample('bilinear').clip(aoi).toFloat()\n",
        "\n",
        "        #pop = ee.Image(item['ghs']).clip(aoi)\n",
        "        # Now Calculate indices on the resampled image\n",
        "        image = (sat.preprocess().clip(aoi))\n",
        "\n",
        "        G = sat.select(Green[item['collection']])\n",
        "        B = sat.select(Blue[item['collection']])\n",
        "        R = sat.select(Red[item['collection']])\n",
        "        NIR = sat.select(N[item['collection']])\n",
        "        SWIR1 = sat.select(S1[item['collection']])\n",
        "        SWIR2 = sat.select(S2[item['collection']])\n",
        "        T = sat.select(ST_bands[item['collection']])\n",
        "\n",
        "        NDBI = (SWIR1.subtract(NIR).divide(NIR.add(SWIR1))).rename('NDBI')\n",
        "        NDBaI = (SWIR1.subtract(T).divide(SWIR1.add(T))).rename('NDBaI')\n",
        "        MNDWI = (G.subtract(SWIR1).divide(G.add(SWIR1))).rename('MNDWI')\n",
        "        NDWI = (G.subtract(NIR).divide(G.add(NIR))).rename('NDWI')\n",
        "        NDVI = (NIR.subtract(R).divide(NIR.add(R))).rename('NDVI')\n",
        "        EVI = (2.5 * (NIR.subtract(R).divide(NIR.add(6 * R).subtract(7.5 * B).add(1)))).rename('EVI').toFloat()\n",
        "        SAVI = (NIR.subtract(R).divide(NIR.add(R).add(0.5)).multiply(1.5)).rename('SAVI')\n",
        "\n",
        "        image = image.addBands(NDBI).addBands(NDBaI).addBands(MNDWI).addBands(NDWI).addBands(NDVI).addBands(EVI).addBands(SAVI)\n",
        "\n",
        "        for index in ['NDBI', 'NDBaI', 'MNDWI', 'NDWI', 'NDVI', 'EVI', 'SAVI']:\n",
        "            min_max_dict = image.select(index).reduceRegion(\n",
        "                reducer=ee.Reducer.minMax(),\n",
        "                scale=120,\n",
        "                geometry=aoi,\n",
        "            ).getInfo()\n",
        "\n",
        "            # Check if the index exists in the dictionary before accessing it\n",
        "           # if index in min_max_dict and 'min' in min_max_dict[index] and 'max' in min_max_dict[index]:\n",
        "            #    print(f\"  Index: {index}, Min: {min_max_dict[index]['min']}, Max: {min_max_dict[index]['max']}\")\n",
        "            #else:\n",
        "            #    print(f\"  Index: {index} not found or missing min/max values in min_max_dict. \"\n",
        "            #          f\"min_max_dict: {min_max_dict}\")\n",
        "        # Collect population\n",
        "        image = image.addBands(srcImg=pop)\n",
        "\n",
        "        # Collect LST\n",
        "        LST = sat.preprocess().select(ST_bands[item['collection']]).subtract(273.15).rename('LST').toFloat()\n",
        "        image = image.addBands(LST)\n",
        "\n",
        "        name = image.id().getInfo()\n",
        "        image = image[['NDBI', 'NDBaI', 'MNDWI', 'NDWI', 'NDVI', 'EVI', 'SAVI', 'population_count', 'LST']]\n",
        "        print(f\"name: {name}\")\n",
        "        #print(image.bandTypes().getInfo())\n",
        "        image = image.cast({'NDBI': 'float', 'NDBaI': 'float', 'MNDWI': 'float', 'NDWI': 'float',\n",
        "                            'NDVI': 'float', 'EVI': 'float', 'SAVI': 'float', 'LST': 'float'})\n",
        "        # Now we export\n",
        "        task = ee.batch.Export.image.toDrive(**{\n",
        "            'image': image[['NDBI', 'NDBaI', 'MNDWI', 'NDWI', 'NDVI', 'EVI', 'SAVI', 'population_count', 'LST']],\n",
        "             'scale': 120,\n",
        "            'description': name,\n",
        "            'folder': 'data-indices-again-again',\n",
        "            'region': aoi.bounds()\n",
        "        })\n",
        "        task.start()"
      ],
      "metadata": {
        "id": "a1EIvtP1vZSw"
      },
      "execution_count": null,
      "outputs": []
    },
    {
      "cell_type": "code",
      "source": [
        "collect_indices()"
      ],
      "metadata": {
        "colab": {
          "base_uri": "https://localhost:8080/"
        },
        "collapsed": true,
        "id": "uoF0kMcMYwD4",
        "outputId": "ce2ff81a-d486-4250-fe55-fe8a4607892e"
      },
      "execution_count": null,
      "outputs": [
        {
          "output_type": "stream",
          "name": "stdout",
          "text": [
            "image loc: LANDSAT/LE07/C02/T1_L2/LE07_184030_19990930, 1999-09-30\n",
            "name: LE07_184030_19990930\n",
            "image loc: LANDSAT/LE07/C02/T1_L2/LE07_184030_20010919, 2001-09-19\n",
            "name: LE07_184030_20010919\n",
            "image loc: LANDSAT/LT05/C02/T1_L2/LT05_184030_19990415, 1999-04-15\n",
            "name: LT05_184030_19990415\n",
            "image loc: LANDSAT/LE07/C02/T1_L2/LE07_184030_20000527, 2000-05-27\n",
            "name: LE07_184030_20000527\n",
            "image loc: LANDSAT/LE07/C02/T1_L2/LE07_184030_20000612, 2000-06-12\n",
            "name: LE07_184030_20000612\n",
            "image loc: LANDSAT/LE07/C02/T1_L2/LE07_184030_20000628, 2000-06-28\n",
            "name: LE07_184030_20000628\n",
            "image loc: LANDSAT/LT05/C02/T2_L2/LT05_184030_20000128, 2000-01-28\n",
            "name: LT05_184030_20000128\n",
            "image loc: LANDSAT/LT05/C02/T1_L2/LT05_184030_20061027, 2006-10-27\n",
            "name: LT05_184030_20061027\n",
            "image loc: LANDSAT/LT05/C02/T1_L2/LT05_184030_20070928, 2007-09-28\n",
            "name: LT05_184030_20070928\n",
            "image loc: LANDSAT/LT05/C02/T1_L2/LT05_184030_20060504, 2006-05-04\n",
            "name: LT05_184030_20060504\n",
            "image loc: LANDSAT/LT05/C02/T1_L2/LT05_184030_20060520, 2006-05-20\n",
            "name: LT05_184030_20060520\n",
            "image loc: LANDSAT/LT05/C02/T1_L2/LT05_184030_20070624, 2007-06-24\n",
            "name: LT05_184030_20070624\n",
            "image loc: LANDSAT/LT05/C02/T1_L2/LT05_184030_20070726, 2007-07-26\n",
            "name: LT05_184030_20070726\n",
            "image loc: LANDSAT/LT05/C02/T1_L2/LT05_184030_20050210, 2005-02-10\n",
            "name: LT05_184030_20050210\n",
            "image loc: LANDSAT/LT05/C02/T1_L2/LT05_184030_20110923, 2011-09-23\n",
            "name: LT05_184030_20110923\n",
            "image loc: LANDSAT/LC08/C02/T1_L2/LC08_184030_20141001, 2014-10-01\n",
            "name: LC08_184030_20141001\n",
            "image loc: LANDSAT/LT05/C02/T1_L2/LT05_184030_20090512, 2009-05-12\n",
            "name: LT05_184030_20090512\n",
            "image loc: LANDSAT/LC08/C02/T1_L2/LC08_184030_20140323, 2014-03-23\n",
            "name: LC08_184030_20140323\n",
            "image loc: LANDSAT/LT05/C02/T1_L2/LT05_184030_20110822, 2011-08-22\n",
            "name: LT05_184030_20110822\n",
            "image loc: LANDSAT/LC08/C02/T1_L2/LC08_184030_20140814, 2014-08-14\n",
            "name: LC08_184030_20140814\n",
            "image loc: LANDSAT/LT05/C02/T1_L2/LT05_184030_20110211, 2011-02-11\n",
            "name: LT05_184030_20110211\n",
            "image loc: LANDSAT/LC08/C02/T1_L2/LC08_184030_20170907, 2017-09-07\n",
            "name: LC08_184030_20170907\n",
            "image loc: LANDSAT/LC08/C02/T1_L2/LC08_184030_20191015, 2019-10-15\n",
            "name: LC08_184030_20191015\n",
            "image loc: LANDSAT/LC08/C02/T1_L2/LC08_184030_20170518, 2017-05-18\n",
            "name: LC08_184030_20170518\n",
            "image loc: LANDSAT/LC08/C02/T1_L2/LC08_184030_20180403, 2018-04-03\n",
            "name: LC08_184030_20180403\n",
            "image loc: LANDSAT/LC08/C02/T1_L2/LC08_184030_20170705, 2017-07-05\n",
            "name: LC08_184030_20170705\n",
            "image loc: LANDSAT/LC08/C02/T1_L2/LC08_184030_20190812, 2019-08-12\n",
            "name: LC08_184030_20190812\n",
            "image loc: LANDSAT/LC08/C02/T1_L2/LC08_184030_20190217, 2019-02-17\n",
            "name: LC08_184030_20190217\n"
          ]
        }
      ]
    },
    {
      "cell_type": "code",
      "source": [
        "tasks = ee.batch.Task.list()\n",
        "for task in tasks[:30]:\n",
        "\n",
        "    print(task.status())"
      ],
      "metadata": {
        "id": "F0T3YUc1w-fY",
        "colab": {
          "base_uri": "https://localhost:8080/"
        },
        "outputId": "a9a33eff-d2d5-410f-cbdc-1f6eb8fdba08"
      },
      "execution_count": null,
      "outputs": [
        {
          "output_type": "stream",
          "name": "stdout",
          "text": [
            "{'state': 'READY', 'description': 'LC08_184030_20190217', 'priority': 100, 'creation_timestamp_ms': 1728479260297, 'update_timestamp_ms': 1728479293854, 'start_timestamp_ms': 0, 'task_type': 'EXPORT_IMAGE', 'id': 'VQ64AXT75IJCJQE6VDOARYWE', 'name': 'projects/ee-dianamarkovakn/operations/VQ64AXT75IJCJQE6VDOARYWE'}\n",
            "{'state': 'READY', 'description': 'LC08_184030_20190812', 'priority': 100, 'creation_timestamp_ms': 1728479257132, 'update_timestamp_ms': 1728479277558, 'start_timestamp_ms': 0, 'task_type': 'EXPORT_IMAGE', 'id': 'WRGSNRGJ5JXOYDYPPAESUHOC', 'name': 'projects/ee-dianamarkovakn/operations/WRGSNRGJ5JXOYDYPPAESUHOC'}\n",
            "{'state': 'READY', 'description': 'LC08_184030_20170705', 'priority': 100, 'creation_timestamp_ms': 1728479253902, 'update_timestamp_ms': 1728479269080, 'start_timestamp_ms': 0, 'task_type': 'EXPORT_IMAGE', 'id': 'CJSR44JQ767D6KUAERHB3WEJ', 'name': 'projects/ee-dianamarkovakn/operations/CJSR44JQ767D6KUAERHB3WEJ'}\n",
            "{'state': 'READY', 'description': 'LC08_184030_20180403', 'priority': 100, 'creation_timestamp_ms': 1728479250905, 'update_timestamp_ms': 1728479255470, 'start_timestamp_ms': 0, 'task_type': 'EXPORT_IMAGE', 'id': 'TGNXKAN7E7QOACKW4WJKJUZZ', 'name': 'projects/ee-dianamarkovakn/operations/TGNXKAN7E7QOACKW4WJKJUZZ'}\n",
            "{'state': 'READY', 'description': 'LC08_184030_20170518', 'priority': 100, 'creation_timestamp_ms': 1728479247617, 'update_timestamp_ms': 1728479253014, 'start_timestamp_ms': 0, 'task_type': 'EXPORT_IMAGE', 'id': '2H5O2U2H3LJTPABNF46DCN7J', 'name': 'projects/ee-dianamarkovakn/operations/2H5O2U2H3LJTPABNF46DCN7J'}\n",
            "{'state': 'READY', 'description': 'LC08_184030_20191015', 'priority': 100, 'creation_timestamp_ms': 1728479244470, 'update_timestamp_ms': 1728479247835, 'start_timestamp_ms': 0, 'task_type': 'EXPORT_IMAGE', 'id': 'ZAQA27IEJM5FHHBYSZDVBR6O', 'name': 'projects/ee-dianamarkovakn/operations/ZAQA27IEJM5FHHBYSZDVBR6O'}\n",
            "{'state': 'READY', 'description': 'LC08_184030_20170907', 'priority': 100, 'creation_timestamp_ms': 1728479240963, 'update_timestamp_ms': 1728479245727, 'start_timestamp_ms': 0, 'task_type': 'EXPORT_IMAGE', 'id': 'MUKVV6MHMZZ3WTAKL24EIYE5', 'name': 'projects/ee-dianamarkovakn/operations/MUKVV6MHMZZ3WTAKL24EIYE5'}\n",
            "{'state': 'READY', 'description': 'LT05_184030_20110211', 'priority': 100, 'creation_timestamp_ms': 1728479237020, 'update_timestamp_ms': 1728479245731, 'start_timestamp_ms': 0, 'task_type': 'EXPORT_IMAGE', 'id': 'FFN2TWGN5ZERW3LV2SJFMOEG', 'name': 'projects/ee-dianamarkovakn/operations/FFN2TWGN5ZERW3LV2SJFMOEG'}\n",
            "{'state': 'READY', 'description': 'LC08_184030_20140814', 'priority': 100, 'creation_timestamp_ms': 1728479234143, 'update_timestamp_ms': 1728479238993, 'start_timestamp_ms': 0, 'task_type': 'EXPORT_IMAGE', 'id': 'TYK3WAKQGFBJA3AHUPVUMURG', 'name': 'projects/ee-dianamarkovakn/operations/TYK3WAKQGFBJA3AHUPVUMURG'}\n",
            "{'state': 'READY', 'description': 'LT05_184030_20110822', 'priority': 100, 'creation_timestamp_ms': 1728479231071, 'update_timestamp_ms': 1728479236593, 'start_timestamp_ms': 0, 'task_type': 'EXPORT_IMAGE', 'id': '4IANJDUBT7XAPEJZUIQMNPXE', 'name': 'projects/ee-dianamarkovakn/operations/4IANJDUBT7XAPEJZUIQMNPXE'}\n",
            "{'state': 'READY', 'description': 'LC08_184030_20140323', 'priority': 100, 'creation_timestamp_ms': 1728479227665, 'update_timestamp_ms': 1728479231857, 'start_timestamp_ms': 0, 'task_type': 'EXPORT_IMAGE', 'id': '3OXABXFBBD3TWGINHRPHXDT6', 'name': 'projects/ee-dianamarkovakn/operations/3OXABXFBBD3TWGINHRPHXDT6'}\n",
            "{'state': 'READY', 'description': 'LT05_184030_20090512', 'priority': 100, 'creation_timestamp_ms': 1728479224648, 'update_timestamp_ms': 1728479228846, 'start_timestamp_ms': 0, 'task_type': 'EXPORT_IMAGE', 'id': 'FMRK2WZDABLJGEIQLKI3GC2X', 'name': 'projects/ee-dianamarkovakn/operations/FMRK2WZDABLJGEIQLKI3GC2X'}\n",
            "{'state': 'READY', 'description': 'LC08_184030_20141001', 'priority': 100, 'creation_timestamp_ms': 1728479221458, 'update_timestamp_ms': 1728479225738, 'start_timestamp_ms': 0, 'task_type': 'EXPORT_IMAGE', 'id': 'J3RID73QEHQ7WWODS7LCGQBN', 'name': 'projects/ee-dianamarkovakn/operations/J3RID73QEHQ7WWODS7LCGQBN'}\n",
            "{'state': 'RUNNING', 'description': 'LT05_184030_20110923', 'priority': 100, 'creation_timestamp_ms': 1728479218837, 'update_timestamp_ms': 1728479347500, 'start_timestamp_ms': 1728479344639, 'task_type': 'EXPORT_IMAGE', 'attempt': 1, 'id': '4HYFTGFQYIGXSJMGWK3HSJKO', 'name': 'projects/ee-dianamarkovakn/operations/4HYFTGFQYIGXSJMGWK3HSJKO'}\n",
            "{'state': 'RUNNING', 'description': 'LT05_184030_20050210', 'priority': 100, 'creation_timestamp_ms': 1728479216922, 'update_timestamp_ms': 1728479345247, 'start_timestamp_ms': 1728479342705, 'task_type': 'EXPORT_IMAGE', 'attempt': 1, 'id': 'FMVQBTNLFLTRLUHWYLVUSQNH', 'name': 'projects/ee-dianamarkovakn/operations/FMVQBTNLFLTRLUHWYLVUSQNH'}\n",
            "{'state': 'COMPLETED', 'description': 'LT05_184030_20070726', 'priority': 100, 'creation_timestamp_ms': 1728479214993, 'update_timestamp_ms': 1728479342148, 'start_timestamp_ms': 1728479324244, 'task_type': 'EXPORT_IMAGE', 'destination_uris': ['https://drive.google.com/#folders/1WnE6l6DZdMYSyuQBaFwRX_xzyvT8WYNQ'], 'attempt': 1, 'batch_eecu_usage_seconds': 2.834324836730957, 'id': 'HQKQFOZ7X5OWTTCYHFUEFMGP', 'name': 'projects/ee-dianamarkovakn/operations/HQKQFOZ7X5OWTTCYHFUEFMGP'}\n",
            "{'state': 'COMPLETED', 'description': 'LT05_184030_20070624', 'priority': 100, 'creation_timestamp_ms': 1728479212869, 'update_timestamp_ms': 1728479333155, 'start_timestamp_ms': 1728479318616, 'task_type': 'EXPORT_IMAGE', 'destination_uris': ['https://drive.google.com/#folders/1WnE6l6DZdMYSyuQBaFwRX_xzyvT8WYNQ'], 'attempt': 1, 'batch_eecu_usage_seconds': 4.204535961151123, 'id': 'U4MWTDUI7LN7AV37J3YZBNQM', 'name': 'projects/ee-dianamarkovakn/operations/U4MWTDUI7LN7AV37J3YZBNQM'}\n",
            "{'state': 'COMPLETED', 'description': 'LT05_184030_20060520', 'priority': 100, 'creation_timestamp_ms': 1728479211100, 'update_timestamp_ms': 1728479311526, 'start_timestamp_ms': 1728479297188, 'task_type': 'EXPORT_IMAGE', 'destination_uris': ['https://drive.google.com/#folders/1WnE6l6DZdMYSyuQBaFwRX_xzyvT8WYNQ'], 'attempt': 1, 'batch_eecu_usage_seconds': 2.8715922832489014, 'id': 'TTAZUSRL5PIXSIYTOUM2OV6Z', 'name': 'projects/ee-dianamarkovakn/operations/TTAZUSRL5PIXSIYTOUM2OV6Z'}\n",
            "{'state': 'COMPLETED', 'description': 'LT05_184030_20060504', 'priority': 100, 'creation_timestamp_ms': 1728479209230, 'update_timestamp_ms': 1728479318385, 'start_timestamp_ms': 1728479293870, 'task_type': 'EXPORT_IMAGE', 'destination_uris': ['https://drive.google.com/#folders/1WnE6l6DZdMYSyuQBaFwRX_xzyvT8WYNQ'], 'attempt': 1, 'batch_eecu_usage_seconds': 4.611821174621582, 'id': 'LSAQNG2FQWXE4I27TMX6UFMA', 'name': 'projects/ee-dianamarkovakn/operations/LSAQNG2FQWXE4I27TMX6UFMA'}\n",
            "{'state': 'COMPLETED', 'description': 'LT05_184030_20070928', 'priority': 100, 'creation_timestamp_ms': 1728479206993, 'update_timestamp_ms': 1728479292544, 'start_timestamp_ms': 1728479277543, 'task_type': 'EXPORT_IMAGE', 'destination_uris': ['https://drive.google.com/#folders/1WnE6l6DZdMYSyuQBaFwRX_xzyvT8WYNQ'], 'attempt': 1, 'batch_eecu_usage_seconds': 2.6745760440826416, 'id': 'T3TQMZP5MXV54KTIUNYZOPYB', 'name': 'projects/ee-dianamarkovakn/operations/T3TQMZP5MXV54KTIUNYZOPYB'}\n",
            "{'state': 'COMPLETED', 'description': 'LT05_184030_20061027', 'priority': 100, 'creation_timestamp_ms': 1728479205066, 'update_timestamp_ms': 1728479289517, 'start_timestamp_ms': 1728479269065, 'task_type': 'EXPORT_IMAGE', 'destination_uris': ['https://drive.google.com/#folders/1WnE6l6DZdMYSyuQBaFwRX_xzyvT8WYNQ'], 'attempt': 1, 'batch_eecu_usage_seconds': 5.086350440979004, 'id': 'WRLTXPD7I6S3IONXGWPMYRHX', 'name': 'projects/ee-dianamarkovakn/operations/WRLTXPD7I6S3IONXGWPMYRHX'}\n",
            "{'state': 'COMPLETED', 'description': 'LT05_184030_20000128', 'priority': 100, 'creation_timestamp_ms': 1728479203092, 'update_timestamp_ms': 1728479272776, 'start_timestamp_ms': 1728479255450, 'task_type': 'EXPORT_IMAGE', 'destination_uris': ['https://drive.google.com/#folders/1WnE6l6DZdMYSyuQBaFwRX_xzyvT8WYNQ'], 'attempt': 1, 'batch_eecu_usage_seconds': 4.074005126953125, 'id': 'MDCY3Q26DEJRUQ6LA7WI523O', 'name': 'projects/ee-dianamarkovakn/operations/MDCY3Q26DEJRUQ6LA7WI523O'}\n",
            "{'state': 'COMPLETED', 'description': 'LE07_184030_20000628', 'priority': 100, 'creation_timestamp_ms': 1728479201320, 'update_timestamp_ms': 1728479263632, 'start_timestamp_ms': 1728479245715, 'task_type': 'EXPORT_IMAGE', 'destination_uris': ['https://drive.google.com/#folders/1WnE6l6DZdMYSyuQBaFwRX_xzyvT8WYNQ'], 'attempt': 1, 'batch_eecu_usage_seconds': 4.484267234802246, 'id': 'KWFXUTTYQBHTVLYRRAQAT76D', 'name': 'projects/ee-dianamarkovakn/operations/KWFXUTTYQBHTVLYRRAQAT76D'}\n",
            "{'state': 'COMPLETED', 'description': 'LE07_184030_20000612', 'priority': 100, 'creation_timestamp_ms': 1728479199465, 'update_timestamp_ms': 1728479252980, 'start_timestamp_ms': 1728479228834, 'task_type': 'EXPORT_IMAGE', 'destination_uris': ['https://drive.google.com/#folders/1WnE6l6DZdMYSyuQBaFwRX_xzyvT8WYNQ'], 'attempt': 1, 'batch_eecu_usage_seconds': 5.290641784667969, 'id': 'MY7BD53YSNE5VSVHFDQ7SQSF', 'name': 'projects/ee-dianamarkovakn/operations/MY7BD53YSNE5VSVHFDQ7SQSF'}\n",
            "{'state': 'COMPLETED', 'description': 'LE07_184030_20000527', 'priority': 100, 'creation_timestamp_ms': 1728479197057, 'update_timestamp_ms': 1728479240835, 'start_timestamp_ms': 1728479222892, 'task_type': 'EXPORT_IMAGE', 'destination_uris': ['https://drive.google.com/#folders/1WnE6l6DZdMYSyuQBaFwRX_xzyvT8WYNQ'], 'attempt': 1, 'batch_eecu_usage_seconds': 3.97528338432312, 'id': 'FQDTGGAAHYMSNYVABSHK7BUB', 'name': 'projects/ee-dianamarkovakn/operations/FQDTGGAAHYMSNYVABSHK7BUB'}\n",
            "{'state': 'COMPLETED', 'description': 'LT05_184030_19990415', 'priority': 100, 'creation_timestamp_ms': 1728479193425, 'update_timestamp_ms': 1728479226553, 'start_timestamp_ms': 1728479212652, 'task_type': 'EXPORT_IMAGE', 'destination_uris': ['https://drive.google.com/#folders/1WnE6l6DZdMYSyuQBaFwRX_xzyvT8WYNQ'], 'attempt': 1, 'batch_eecu_usage_seconds': 3.194775104522705, 'id': 'LPLPQZ3SSPWNTNE72EZOQBYZ', 'name': 'projects/ee-dianamarkovakn/operations/LPLPQZ3SSPWNTNE72EZOQBYZ'}\n",
            "{'state': 'COMPLETED', 'description': 'LE07_184030_20010919', 'priority': 100, 'creation_timestamp_ms': 1728479190664, 'update_timestamp_ms': 1728479216817, 'start_timestamp_ms': 1728479194618, 'task_type': 'EXPORT_IMAGE', 'destination_uris': ['https://drive.google.com/#folders/1WnE6l6DZdMYSyuQBaFwRX_xzyvT8WYNQ'], 'attempt': 1, 'batch_eecu_usage_seconds': 5.338688373565674, 'id': 'EVJWDZQ4WNPXNKFO6GVYM25X', 'name': 'projects/ee-dianamarkovakn/operations/EVJWDZQ4WNPXNKFO6GVYM25X'}\n",
            "{'state': 'COMPLETED', 'description': 'LE07_184030_19990930', 'priority': 100, 'creation_timestamp_ms': 1728479187663, 'update_timestamp_ms': 1728479206874, 'start_timestamp_ms': 1728479189764, 'task_type': 'EXPORT_IMAGE', 'destination_uris': ['https://drive.google.com/#folders/1WnE6l6DZdMYSyuQBaFwRX_xzyvT8WYNQ'], 'attempt': 1, 'batch_eecu_usage_seconds': 3.992727518081665, 'id': '4R7VBEIYWGLP6FYRO2DQHXML', 'name': 'projects/ee-dianamarkovakn/operations/4R7VBEIYWGLP6FYRO2DQHXML'}\n",
            "{'state': 'FAILED', 'description': 'LC08_184030_20190217', 'priority': 100, 'creation_timestamp_ms': 1728478780821, 'update_timestamp_ms': 1728478825801, 'start_timestamp_ms': 1728478825216, 'task_type': 'EXPORT_IMAGE', 'attempt': 1, 'error_message': 'Exported bands must have compatible data types; found inconsistent types: Float32 and Float64.', 'id': 'YYLWINZSW6LWTSXFVUKL46NO', 'name': 'projects/ee-dianamarkovakn/operations/YYLWINZSW6LWTSXFVUKL46NO'}\n",
            "{'state': 'FAILED', 'description': 'LC08_184030_20190812', 'priority': 100, 'creation_timestamp_ms': 1728478779016, 'update_timestamp_ms': 1728478825716, 'start_timestamp_ms': 1728478825220, 'task_type': 'EXPORT_IMAGE', 'attempt': 1, 'error_message': 'Exported bands must have compatible data types; found inconsistent types: Float32 and Float64.', 'id': 'HXGKYM3FBRABZ4SASMNI4TML', 'name': 'projects/ee-dianamarkovakn/operations/HXGKYM3FBRABZ4SASMNI4TML'}\n"
          ]
        }
      ]
    },
    {
      "cell_type": "markdown",
      "source": [],
      "metadata": {
        "id": "yIwaCLgHyUJz"
      }
    },
    {
      "cell_type": "code",
      "source": [
        "def collect_pop():\n",
        "    for year in range(1975, 2025, 5):\n",
        "        pop = ee.Image(f\"JRC/GHSL/P2023A/GHS_POP/{year}\").clip(aoi)\n",
        "\n",
        "        name = pop.id().getInfo()\n",
        "\n",
        "        print(f\"name: {name}\")\n",
        "\n",
        "        # Now we export and resample\n",
        "        task = ee.batch.Export.image.toDrive(**{\n",
        "            'image': pop,\n",
        "            'description': name,\n",
        "            'folder': 'population-ghs-aoi-clipped',\n",
        "            'scale': 120,\n",
        "            'region': aoi.bounds()\n",
        "        })\n",
        "        task.start()\n"
      ],
      "metadata": {
        "id": "4rO5vSbqzH_l"
      },
      "execution_count": null,
      "outputs": []
    },
    {
      "cell_type": "code",
      "source": [
        "collect_pop()"
      ],
      "metadata": {
        "colab": {
          "base_uri": "https://localhost:8080/"
        },
        "id": "68Wxptgx1_gt",
        "outputId": "3ed8bcf2-b761-49c8-d62e-54c5afb44ada"
      },
      "execution_count": null,
      "outputs": [
        {
          "output_type": "stream",
          "name": "stdout",
          "text": [
            "name: 2020\n"
          ]
        }
      ]
    },
    {
      "cell_type": "code",
      "source": [
        "# tasks = ee.batch.Task.list()\n",
        "# for task in tasks[:30]:\n",
        "#     print(task.status())"
      ],
      "metadata": {
        "id": "vboWTNYV10Xz"
      },
      "execution_count": null,
      "outputs": []
    }
  ]
}