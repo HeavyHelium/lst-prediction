{
  "nbformat": 4,
  "nbformat_minor": 0,
  "metadata": {
    "colab": {
      "provenance": []
    },
    "kernelspec": {
      "name": "python3",
      "display_name": "Python 3"
    },
    "language_info": {
      "name": "python"
    }
  },
  "cells": [
    {
      "cell_type": "markdown",
      "source": [
        "# Data extraction methodology\n",
        "\n",
        "## Indices\n",
        "* preprocess images\n",
        "* calculate indices\n",
        "\n",
        "We extract the following spectral indices for impervious surfaces, water bodies and vegetation:   \n",
        "* **NDBI**, **NDBaI**\n",
        "* **MNDWI**, **NDWI**,\n",
        "* **NDVI**, **EVI**, **SAVI**\n",
        "\n",
        "\n",
        "## Population density\n",
        "* Use closest GHSL population dataset\n",
        "\n",
        "## LST(Land surface temperature)\n",
        "* Use Landsat Collection 2 Surface temperature bands\n",
        "  * for Landsat 8 - band 10\n",
        "  * for Landsat 4/5/7 - band 6"
      ],
      "metadata": {
        "id": "o8xYCd7zWFY6"
      }
    },
    {
      "cell_type": "code",
      "source": [
        "# !pip install eemont\n",
        "# !pip install ee\n",
        "# !pip install geopandas\n",
        "# !pip install rasterio\n",
        "# !pip install earthengine-api\n",
        "# !pip install earthengine-api --upgrade"
      ],
      "metadata": {
        "id": "aTVdAMXKwHpe"
      },
      "execution_count": 18,
      "outputs": []
    },
    {
      "cell_type": "code",
      "source": [
        "import ee\n",
        "import eemont\n",
        "import geopandas as gpd\n",
        "import rasterio\n",
        "import json"
      ],
      "metadata": {
        "id": "_ZuYrtjjwjzP"
      },
      "execution_count": 153,
      "outputs": []
    },
    {
      "cell_type": "code",
      "source": [
        "ee.Authenticate()\n",
        "ee.Initialize(project=\"ee-dianamarkovakn\")"
      ],
      "metadata": {
        "id": "HS2NXJVdwn6c"
      },
      "execution_count": 20,
      "outputs": []
    },
    {
      "cell_type": "code",
      "source": [
        "aoi = ee.Geometry.Polygon([\n",
        "  [[23.032164119466383, 42.91889685342199],\n",
        "   [23.032164119466383, 42.39372184157957],\n",
        "\n",
        "   [23.710569881185133, 42.39372184157957],\n",
        "   [23.710569881185133, 42.91889685342199]]\n",
        "]);"
      ],
      "metadata": {
        "id": "dVRNZzLvwuC7"
      },
      "execution_count": 21,
      "outputs": []
    },
    {
      "cell_type": "code",
      "source": [
        "spectral_incides = ['NDBI', 'NDBaI',\t'MNDWI',\t'NDWI',\t'NDVI',\t'EVI',\t'SAVI']"
      ],
      "metadata": {
        "id": "1DPBw7fY4e4k"
      },
      "execution_count": 74,
      "outputs": []
    },
    {
      "cell_type": "code",
      "source": [
        "ST_bands = {'LE07': 'ST_B6',\n",
        "            'LT05': 'ST_B6',\n",
        "            'LC08': 'ST_B10', }"
      ],
      "metadata": {
        "id": "LswhAQBmRXfR"
      },
      "execution_count": 128,
      "outputs": []
    },
    {
      "cell_type": "code",
      "source": [
        "from collections import defaultdict\n",
        "from datetime import datetime\n",
        "\n",
        "with open('id_list.json', 'r') as f:\n",
        "  id_list = json.load(f)\n",
        "\n",
        "\n",
        "grouped = defaultdict(lambda: defaultdict(list))\n",
        "for item in id_list:\n",
        "    date_str = item['id'].split('_')[-1]\n",
        "    date = datetime.strptime(date_str, \"%Y%m%d\")\n",
        "    grouped[item['collection']][item['tier']].append(date)\n",
        "\n",
        "# Display the results\n",
        "for collection, tiers in grouped.items():\n",
        "    print(f\"Collection: {collection}\")\n",
        "    for tier, dates in tiers.items():\n",
        "        print(f\"  Tier: {tier}\")\n",
        "        for date in dates:\n",
        "            print(f\"    {date.strftime('%Y-%m-%d')}\")\n",
        "\n"
      ],
      "metadata": {
        "colab": {
          "base_uri": "https://localhost:8080/"
        },
        "id": "xOFC6RIfsPF2",
        "outputId": "b99649fd-386a-4e1e-f2a4-d85a97724e22"
      },
      "execution_count": 152,
      "outputs": [
        {
          "output_type": "stream",
          "name": "stdout",
          "text": [
            "Collection: LE07\n",
            "  Tier: T1\n",
            "    1999-09-30\n",
            "    2001-09-19\n",
            "    2000-05-27\n",
            "    2000-06-12\n",
            "    2000-06-28\n",
            "Collection: LT05\n",
            "  Tier: T1\n",
            "    1999-04-15\n",
            "    2006-10-27\n",
            "    2007-09-28\n",
            "    2006-05-04\n",
            "    2006-05-20\n",
            "    2007-06-24\n",
            "    2007-07-26\n",
            "    2005-02-10\n",
            "    2011-09-23\n",
            "    2009-05-12\n",
            "    2011-08-22\n",
            "    2011-02-11\n",
            "  Tier: T2\n",
            "    2000-01-28\n",
            "Collection: LC08\n",
            "  Tier: T1\n",
            "    2014-10-01\n",
            "    2014-03-23\n",
            "    2014-08-14\n",
            "    2017-09-07\n",
            "    2019-10-15\n",
            "    2017-05-18\n",
            "    2018-04-03\n",
            "    2017-07-05\n",
            "    2019-08-12\n",
            "    2019-02-17\n"
          ]
        }
      ]
    },
    {
      "cell_type": "code",
      "source": [
        "print(id_list)"
      ],
      "metadata": {
        "colab": {
          "base_uri": "https://localhost:8080/"
        },
        "id": "jXgPWNyi6jGY",
        "outputId": "88e5ec90-c597-449c-b6f6-b9d7f654ec68"
      },
      "execution_count": 154,
      "outputs": [
        {
          "output_type": "stream",
          "name": "stdout",
          "text": [
            "[{'id': 'LE07_184030_19990930', 'collection': 'LE07', 'season': 'winter', 'tier': 'T1', 'ghs': 'JRC/GHSL/P2023A/GHS_POP/2000'}, {'id': 'LE07_184030_20010919', 'collection': 'LE07', 'season': 'autumn', 'tier': 'T1', 'ghs': 'JRC/GHSL/P2023A/GHS_POP/2000'}, {'id': 'LT05_184030_19990415', 'collection': 'LT05', 'season': 'spring', 'tier': 'T1', 'ghs': 'JRC/GHSL/P2023A/GHS_POP/2000'}, {'id': 'LE07_184030_20000527', 'collection': 'LE07', 'season': 'spring', 'tier': 'T1', 'ghs': 'JRC/GHSL/P2023A/GHS_POP/2000'}, {'id': 'LE07_184030_20000612', 'collection': 'LE07', 'season': 'summer', 'tier': 'T1', 'ghs': 'JRC/GHSL/P2023A/GHS_POP/2000'}, {'id': 'LE07_184030_20000628', 'collection': 'LE07', 'season': 'summer', 'tier': 'T1', 'ghs': 'JRC/GHSL/P2023A/GHS_POP/2000'}, {'id': 'LT05_184030_20000128', 'collection': 'LT05', 'season': 'winter', 'tier': 'T2', 'ghs': 'JRC/GHSL/P2023A/GHS_POP/2000'}, {'id': 'LT05_184030_20061027', 'collection': 'LT05', 'season': 'autumn', 'tier': 'T1', 'ghs': 'JRC/GHSL/P2023A/GHS_POP/2005'}, {'id': 'LT05_184030_20070928', 'collection': 'LT05', 'season': 'autumn', 'tier': 'T1', 'ghs': 'JRC/GHSL/P2023A/GHS_POP/2005'}, {'id': 'LT05_184030_20060504', 'collection': 'LT05', 'season': 'spring', 'tier': 'T1', 'ghs': 'JRC/GHSL/P2023A/GHS_POP/2005'}, {'id': 'LT05_184030_20060520', 'collection': 'LT05', 'season': 'spring', 'tier': 'T1', 'ghs': 'JRC/GHSL/P2023A/GHS_POP/2005'}, {'id': 'LT05_184030_20070624', 'collection': 'LT05', 'season': 'summer', 'tier': 'T1', 'ghs': 'JRC/GHSL/P2023A/GHS_POP/2005'}, {'id': 'LT05_184030_20070726', 'collection': 'LT05', 'season': 'summer', 'tier': 'T1', 'ghs': 'JRC/GHSL/P2023A/GHS_POP/2005'}, {'id': 'LT05_184030_20050210', 'collection': 'LT05', 'season': 'winter', 'tier': 'T1', 'ghs': 'JRC/GHSL/P2023A/GHS_POP/2005'}, {'id': 'LT05_184030_20110923', 'collection': 'LT05', 'season': 'autumn', 'tier': 'T1', 'ghs': 'JRC/GHSL/P2023A/GHS_POP/2010'}, {'id': 'LC08_184030_20141001', 'collection': 'LC08', 'season': 'autumn', 'tier': 'T1', 'ghs': 'JRC/GHSL/P2023A/GHS_POP/2015'}, {'id': 'LT05_184030_20090512', 'collection': 'LT05', 'season': 'spring', 'tier': 'T1', 'ghs': 'JRC/GHSL/P2023A/GHS_POP/2010'}, {'id': 'LC08_184030_20140323', 'collection': 'LC08', 'season': 'spring', 'tier': 'T1', 'ghs': 'JRC/GHSL/P2023A/GHS_POP/2015'}, {'id': 'LT05_184030_20110822', 'collection': 'LT05', 'season': 'summer', 'tier': 'T1', 'ghs': 'JRC/GHSL/P2023A/GHS_POP/2010'}, {'id': 'LC08_184030_20140814', 'collection': 'LC08', 'season': 'summer', 'tier': 'T1', 'ghs': 'JRC/GHSL/P2023A/GHS_POP/2015'}, {'id': 'LT05_184030_20110211', 'collection': 'LT05', 'season': 'winter', 'tier': 'T1', 'ghs': 'JRC/GHSL/P2023A/GHS_POP/2010'}, {'id': 'LC08_184030_20170907', 'collection': 'LC08', 'season': 'autumn', 'tier': 'T1', 'ghs': 'JRC/GHSL/P2023A/GHS_POP/2015'}, {'id': 'LC08_184030_20191015', 'collection': 'LC08', 'season': 'autumn', 'tier': 'T1', 'ghs': 'JRC/GHSL/P2023A/GHS_POP/2020'}, {'id': 'LC08_184030_20170518', 'collection': 'LC08', 'season': 'spring', 'tier': 'T1', 'ghs': 'JRC/GHSL/P2023A/GHS_POP/2015'}, {'id': 'LC08_184030_20180403', 'collection': 'LC08', 'season': 'spring', 'tier': 'T1', 'ghs': 'JRC/GHSL/P2023A/GHS_POP/2020'}, {'id': 'LC08_184030_20170705', 'collection': 'LC08', 'season': 'summer', 'tier': 'T1', 'ghs': 'JRC/GHSL/P2023A/GHS_POP/2015'}, {'id': 'LC08_184030_20190812', 'collection': 'LC08', 'season': 'summer', 'tier': 'T1', 'ghs': 'JRC/GHSL/P2023A/GHS_POP/2020'}, {'id': 'LC08_184030_20190217', 'collection': 'LC08', 'season': 'winter', 'tier': 'T1', 'ghs': 'JRC/GHSL/P2023A/GHS_POP/2020'}]\n"
          ]
        }
      ]
    },
    {
      "cell_type": "code",
      "source": [
        "def collect_indices():\n",
        "    for item in id_list:\n",
        "        date_str = item['id'].split('_')[-1]\n",
        "        date: str  = datetime.strptime(date_str, \"%Y%m%d\")\n",
        "        image_loc: str = f\"LANDSAT/{item['collection']}/C02/{item['tier']}_L2/{item['id']}\"\n",
        "        print(f\"image loc: {image_loc}, {date.strftime('%Y-%m-%d')}\")\n",
        "\n",
        "        pop = ee.Image(item['ghs']).clip(aoi)\n",
        "        sat = ee.Image(image_loc)\n",
        "\n",
        "        # Collect indices\n",
        "        image = (sat.preprocess()\n",
        "                    .spectralIndices(spectral_incides)\n",
        "                    .clip(aoi))[['NDBI', 'NDBaI',\t'MNDWI',\t'NDWI',\t'NDVI',\t'EVI',\t'SAVI']]\n",
        "\n",
        "       # Collect population\n",
        "        image = image.addBands(srcImg=pop)\n",
        "\n",
        "       # Collect LST\n",
        "        LST = sat.preprocess().select(ST_bands[item['collection']]).subtract(273.15).rename('LST')\n",
        "        image = image.addBands(LST)\n",
        "\n",
        "\n",
        "        image = image.resample('bilinear')\n",
        "        name = image.id().getInfo()\n",
        "\n",
        "        print(f\"name: {name}\")\n",
        "        print(image.bandNames().getInfo())\n",
        "\n",
        "        # Now we export and resample\n",
        "        task = ee.batch.Export.image.toDrive(**{\n",
        "            'image': image,\n",
        "            'description': name,\n",
        "            'folder': 'data-indices-population-lst',\n",
        "            'scale': 120,\n",
        "            'region': aoi.bounds()\n",
        "        })\n",
        "        task.start()\n"
      ],
      "metadata": {
        "id": "a1EIvtP1vZSw"
      },
      "execution_count": 144,
      "outputs": []
    },
    {
      "cell_type": "code",
      "source": [
        "collect_indices()"
      ],
      "metadata": {
        "colab": {
          "base_uri": "https://localhost:8080/"
        },
        "collapsed": true,
        "id": "uoF0kMcMYwD4",
        "outputId": "f5260d44-24a2-4ba9-dd35-adecddec09d6"
      },
      "execution_count": 145,
      "outputs": [
        {
          "output_type": "stream",
          "name": "stdout",
          "text": [
            "image loc: LANDSAT/LE07/C02/T1_L2/LE07_184030_19990930, 1999-09-30\n",
            "name: LE07_184030_19990930\n",
            "['NDBI', 'NDBaI', 'MNDWI', 'NDWI', 'NDVI', 'EVI', 'SAVI', 'population_count', 'LST']\n",
            "image loc: LANDSAT/LE07/C02/T1_L2/LE07_184030_20010919, 2001-09-19\n",
            "name: LE07_184030_20010919\n",
            "['NDBI', 'NDBaI', 'MNDWI', 'NDWI', 'NDVI', 'EVI', 'SAVI', 'population_count', 'LST']\n",
            "image loc: LANDSAT/LT05/C02/T1_L2/LT05_184030_19990415, 1999-04-15\n",
            "name: LT05_184030_19990415\n",
            "['NDBI', 'NDBaI', 'MNDWI', 'NDWI', 'NDVI', 'EVI', 'SAVI', 'population_count', 'LST']\n",
            "image loc: LANDSAT/LE07/C02/T1_L2/LE07_184030_20000527, 2000-05-27\n",
            "name: LE07_184030_20000527\n",
            "['NDBI', 'NDBaI', 'MNDWI', 'NDWI', 'NDVI', 'EVI', 'SAVI', 'population_count', 'LST']\n",
            "image loc: LANDSAT/LE07/C02/T1_L2/LE07_184030_20000612, 2000-06-12\n",
            "name: LE07_184030_20000612\n",
            "['NDBI', 'NDBaI', 'MNDWI', 'NDWI', 'NDVI', 'EVI', 'SAVI', 'population_count', 'LST']\n",
            "image loc: LANDSAT/LE07/C02/T1_L2/LE07_184030_20000628, 2000-06-28\n",
            "name: LE07_184030_20000628\n",
            "['NDBI', 'NDBaI', 'MNDWI', 'NDWI', 'NDVI', 'EVI', 'SAVI', 'population_count', 'LST']\n",
            "image loc: LANDSAT/LT05/C02/T2_L2/LT05_184030_20000128, 2000-01-28\n",
            "name: LT05_184030_20000128\n",
            "['NDBI', 'NDBaI', 'MNDWI', 'NDWI', 'NDVI', 'EVI', 'SAVI', 'population_count', 'LST']\n",
            "image loc: LANDSAT/LT05/C02/T1_L2/LT05_184030_20061027, 2006-10-27\n",
            "name: LT05_184030_20061027\n",
            "['NDBI', 'NDBaI', 'MNDWI', 'NDWI', 'NDVI', 'EVI', 'SAVI', 'population_count', 'LST']\n",
            "image loc: LANDSAT/LT05/C02/T1_L2/LT05_184030_20070928, 2007-09-28\n",
            "name: LT05_184030_20070928\n",
            "['NDBI', 'NDBaI', 'MNDWI', 'NDWI', 'NDVI', 'EVI', 'SAVI', 'population_count', 'LST']\n",
            "image loc: LANDSAT/LT05/C02/T1_L2/LT05_184030_20060504, 2006-05-04\n",
            "name: LT05_184030_20060504\n",
            "['NDBI', 'NDBaI', 'MNDWI', 'NDWI', 'NDVI', 'EVI', 'SAVI', 'population_count', 'LST']\n",
            "image loc: LANDSAT/LT05/C02/T1_L2/LT05_184030_20060520, 2006-05-20\n",
            "name: LT05_184030_20060520\n",
            "['NDBI', 'NDBaI', 'MNDWI', 'NDWI', 'NDVI', 'EVI', 'SAVI', 'population_count', 'LST']\n",
            "image loc: LANDSAT/LT05/C02/T1_L2/LT05_184030_20070624, 2007-06-24\n",
            "name: LT05_184030_20070624\n",
            "['NDBI', 'NDBaI', 'MNDWI', 'NDWI', 'NDVI', 'EVI', 'SAVI', 'population_count', 'LST']\n",
            "image loc: LANDSAT/LT05/C02/T1_L2/LT05_184030_20070726, 2007-07-26\n",
            "name: LT05_184030_20070726\n",
            "['NDBI', 'NDBaI', 'MNDWI', 'NDWI', 'NDVI', 'EVI', 'SAVI', 'population_count', 'LST']\n",
            "image loc: LANDSAT/LT05/C02/T1_L2/LT05_184030_20050210, 2005-02-10\n",
            "name: LT05_184030_20050210\n",
            "['NDBI', 'NDBaI', 'MNDWI', 'NDWI', 'NDVI', 'EVI', 'SAVI', 'population_count', 'LST']\n",
            "image loc: LANDSAT/LT05/C02/T1_L2/LT05_184030_20110923, 2011-09-23\n",
            "name: LT05_184030_20110923\n",
            "['NDBI', 'NDBaI', 'MNDWI', 'NDWI', 'NDVI', 'EVI', 'SAVI', 'population_count', 'LST']\n",
            "image loc: LANDSAT/LC08/C02/T1_L2/LC08_184030_20141001, 2014-10-01\n",
            "name: LC08_184030_20141001\n",
            "['NDBI', 'NDBaI', 'MNDWI', 'NDWI', 'NDVI', 'EVI', 'SAVI', 'population_count', 'LST']\n",
            "image loc: LANDSAT/LT05/C02/T1_L2/LT05_184030_20090512, 2009-05-12\n",
            "name: LT05_184030_20090512\n",
            "['NDBI', 'NDBaI', 'MNDWI', 'NDWI', 'NDVI', 'EVI', 'SAVI', 'population_count', 'LST']\n",
            "image loc: LANDSAT/LC08/C02/T1_L2/LC08_184030_20140323, 2014-03-23\n",
            "name: LC08_184030_20140323\n",
            "['NDBI', 'NDBaI', 'MNDWI', 'NDWI', 'NDVI', 'EVI', 'SAVI', 'population_count', 'LST']\n",
            "image loc: LANDSAT/LT05/C02/T1_L2/LT05_184030_20110822, 2011-08-22\n",
            "name: LT05_184030_20110822\n",
            "['NDBI', 'NDBaI', 'MNDWI', 'NDWI', 'NDVI', 'EVI', 'SAVI', 'population_count', 'LST']\n",
            "image loc: LANDSAT/LC08/C02/T1_L2/LC08_184030_20140814, 2014-08-14\n",
            "name: LC08_184030_20140814\n",
            "['NDBI', 'NDBaI', 'MNDWI', 'NDWI', 'NDVI', 'EVI', 'SAVI', 'population_count', 'LST']\n",
            "image loc: LANDSAT/LT05/C02/T1_L2/LT05_184030_20110211, 2011-02-11\n",
            "name: LT05_184030_20110211\n",
            "['NDBI', 'NDBaI', 'MNDWI', 'NDWI', 'NDVI', 'EVI', 'SAVI', 'population_count', 'LST']\n",
            "image loc: LANDSAT/LC08/C02/T1_L2/LC08_184030_20170907, 2017-09-07\n",
            "name: LC08_184030_20170907\n",
            "['NDBI', 'NDBaI', 'MNDWI', 'NDWI', 'NDVI', 'EVI', 'SAVI', 'population_count', 'LST']\n",
            "image loc: LANDSAT/LC08/C02/T1_L2/LC08_184030_20191015, 2019-10-15\n",
            "name: LC08_184030_20191015\n",
            "['NDBI', 'NDBaI', 'MNDWI', 'NDWI', 'NDVI', 'EVI', 'SAVI', 'population_count', 'LST']\n",
            "image loc: LANDSAT/LC08/C02/T1_L2/LC08_184030_20170518, 2017-05-18\n",
            "name: LC08_184030_20170518\n",
            "['NDBI', 'NDBaI', 'MNDWI', 'NDWI', 'NDVI', 'EVI', 'SAVI', 'population_count', 'LST']\n",
            "image loc: LANDSAT/LC08/C02/T1_L2/LC08_184030_20180403, 2018-04-03\n",
            "name: LC08_184030_20180403\n",
            "['NDBI', 'NDBaI', 'MNDWI', 'NDWI', 'NDVI', 'EVI', 'SAVI', 'population_count', 'LST']\n",
            "image loc: LANDSAT/LC08/C02/T1_L2/LC08_184030_20170705, 2017-07-05\n",
            "name: LC08_184030_20170705\n",
            "['NDBI', 'NDBaI', 'MNDWI', 'NDWI', 'NDVI', 'EVI', 'SAVI', 'population_count', 'LST']\n",
            "image loc: LANDSAT/LC08/C02/T1_L2/LC08_184030_20190812, 2019-08-12\n",
            "name: LC08_184030_20190812\n",
            "['NDBI', 'NDBaI', 'MNDWI', 'NDWI', 'NDVI', 'EVI', 'SAVI', 'population_count', 'LST']\n",
            "image loc: LANDSAT/LC08/C02/T1_L2/LC08_184030_20190217, 2019-02-17\n",
            "name: LC08_184030_20190217\n",
            "['NDBI', 'NDBaI', 'MNDWI', 'NDWI', 'NDVI', 'EVI', 'SAVI', 'population_count', 'LST']\n"
          ]
        }
      ]
    },
    {
      "cell_type": "code",
      "source": [
        "tasks = ee.batch.Task.list()\n",
        "for task in tasks[:30]:\n",
        "\n",
        "    print(task.status())"
      ],
      "metadata": {
        "id": "F0T3YUc1w-fY",
        "colab": {
          "base_uri": "https://localhost:8080/"
        },
        "outputId": "4063a710-652f-4dc7-fb37-037d8900495d"
      },
      "execution_count": 150,
      "outputs": [
        {
          "output_type": "stream",
          "name": "stdout",
          "text": [
            "{'state': 'COMPLETED', 'description': 'LC08_184030_20190217', 'priority': 100, 'creation_timestamp_ms': 1727958401521, 'update_timestamp_ms': 1727958618227, 'start_timestamp_ms': 1727958588848, 'task_type': 'EXPORT_IMAGE', 'destination_uris': ['https://drive.google.com/#folders/1govcJTxphqKp72gUj1XCfop48vG5bh4A'], 'attempt': 1, 'batch_eecu_usage_seconds': 5.7516770362854, 'id': 'JAUKHTEWJUCE3F2Y5CYOUBOY', 'name': 'projects/ee-dianamarkovakn/operations/JAUKHTEWJUCE3F2Y5CYOUBOY'}\n",
            "{'state': 'COMPLETED', 'description': 'LC08_184030_20190812', 'priority': 100, 'creation_timestamp_ms': 1727958400351, 'update_timestamp_ms': 1727958593620, 'start_timestamp_ms': 1727958574734, 'task_type': 'EXPORT_IMAGE', 'destination_uris': ['https://drive.google.com/#folders/1govcJTxphqKp72gUj1XCfop48vG5bh4A'], 'attempt': 1, 'batch_eecu_usage_seconds': 4.034004211425781, 'id': 'WUABH37AFWXK5IEQ3NTT5CDE', 'name': 'projects/ee-dianamarkovakn/operations/WUABH37AFWXK5IEQ3NTT5CDE'}\n",
            "{'state': 'COMPLETED', 'description': 'LC08_184030_20170705', 'priority': 100, 'creation_timestamp_ms': 1727958399156, 'update_timestamp_ms': 1727958588638, 'start_timestamp_ms': 1727958569225, 'task_type': 'EXPORT_IMAGE', 'destination_uris': ['https://drive.google.com/#folders/1govcJTxphqKp72gUj1XCfop48vG5bh4A'], 'attempt': 1, 'batch_eecu_usage_seconds': 5.100004196166992, 'id': 'NHHZ2GQOS7TA6Y3F4LUU3AXE', 'name': 'projects/ee-dianamarkovakn/operations/NHHZ2GQOS7TA6Y3F4LUU3AXE'}\n",
            "{'state': 'COMPLETED', 'description': 'LC08_184030_20180403', 'priority': 100, 'creation_timestamp_ms': 1727958397582, 'update_timestamp_ms': 1727958582532, 'start_timestamp_ms': 1727958563590, 'task_type': 'EXPORT_IMAGE', 'destination_uris': ['https://drive.google.com/#folders/1govcJTxphqKp72gUj1XCfop48vG5bh4A'], 'attempt': 1, 'batch_eecu_usage_seconds': 5.118319988250732, 'id': 'MYJJOGIK5DLMURW56X4PLM36', 'name': 'projects/ee-dianamarkovakn/operations/MYJJOGIK5DLMURW56X4PLM36'}\n",
            "{'state': 'COMPLETED', 'description': 'LC08_184030_20170518', 'priority': 100, 'creation_timestamp_ms': 1727958396215, 'update_timestamp_ms': 1727958577540, 'start_timestamp_ms': 1727958557689, 'task_type': 'EXPORT_IMAGE', 'destination_uris': ['https://drive.google.com/#folders/1govcJTxphqKp72gUj1XCfop48vG5bh4A'], 'attempt': 1, 'batch_eecu_usage_seconds': 2.7741308212280273, 'id': 'BH5OCJYQ3LA3UGU3N5ZRJ4C3', 'name': 'projects/ee-dianamarkovakn/operations/BH5OCJYQ3LA3UGU3N5ZRJ4C3'}\n",
            "{'state': 'COMPLETED', 'description': 'LC08_184030_20191015', 'priority': 100, 'creation_timestamp_ms': 1727958394686, 'update_timestamp_ms': 1727958565716, 'start_timestamp_ms': 1727958546720, 'task_type': 'EXPORT_IMAGE', 'destination_uris': ['https://drive.google.com/#folders/1govcJTxphqKp72gUj1XCfop48vG5bh4A'], 'attempt': 1, 'batch_eecu_usage_seconds': 4.642243385314941, 'id': 'IXUTRFHTIHJLWAR6TXIDWSPS', 'name': 'projects/ee-dianamarkovakn/operations/IXUTRFHTIHJLWAR6TXIDWSPS'}\n",
            "{'state': 'COMPLETED', 'description': 'LC08_184030_20170907', 'priority': 100, 'creation_timestamp_ms': 1727958393627, 'update_timestamp_ms': 1727958549413, 'start_timestamp_ms': 1727958529369, 'task_type': 'EXPORT_IMAGE', 'destination_uris': ['https://drive.google.com/#folders/1govcJTxphqKp72gUj1XCfop48vG5bh4A'], 'attempt': 1, 'batch_eecu_usage_seconds': 5.373402118682861, 'id': 'OINKWBL72YF4RQ7VTSF7AGOY', 'name': 'projects/ee-dianamarkovakn/operations/OINKWBL72YF4RQ7VTSF7AGOY'}\n",
            "{'state': 'COMPLETED', 'description': 'LT05_184030_20110211', 'priority': 100, 'creation_timestamp_ms': 1727958392291, 'update_timestamp_ms': 1727958552061, 'start_timestamp_ms': 1727958529390, 'task_type': 'EXPORT_IMAGE', 'destination_uris': ['https://drive.google.com/#folders/1govcJTxphqKp72gUj1XCfop48vG5bh4A'], 'attempt': 1, 'batch_eecu_usage_seconds': 2.885525941848755, 'id': 'AGST2NE44ZQAKF6REKNMBEQ6', 'name': 'projects/ee-dianamarkovakn/operations/AGST2NE44ZQAKF6REKNMBEQ6'}\n",
            "{'state': 'COMPLETED', 'description': 'LC08_184030_20140814', 'priority': 100, 'creation_timestamp_ms': 1727958391007, 'update_timestamp_ms': 1727958561454, 'start_timestamp_ms': 1727958522864, 'task_type': 'EXPORT_IMAGE', 'destination_uris': ['https://drive.google.com/#folders/1govcJTxphqKp72gUj1XCfop48vG5bh4A'], 'attempt': 1, 'batch_eecu_usage_seconds': 6.000223636627197, 'id': 'KA3DX7COPCS6HPKUUQJAUQ7R', 'name': 'projects/ee-dianamarkovakn/operations/KA3DX7COPCS6HPKUUQJAUQ7R'}\n",
            "{'state': 'COMPLETED', 'description': 'LT05_184030_20110822', 'priority': 100, 'creation_timestamp_ms': 1727958389599, 'update_timestamp_ms': 1727958536658, 'start_timestamp_ms': 1727958516870, 'task_type': 'EXPORT_IMAGE', 'destination_uris': ['https://drive.google.com/#folders/1govcJTxphqKp72gUj1XCfop48vG5bh4A'], 'attempt': 1, 'batch_eecu_usage_seconds': 4.18668794631958, 'id': '7D7WGVMR4Y3LGCDSUUASX536', 'name': 'projects/ee-dianamarkovakn/operations/7D7WGVMR4Y3LGCDSUUASX536'}\n",
            "{'state': 'COMPLETED', 'description': 'LC08_184030_20140323', 'priority': 100, 'creation_timestamp_ms': 1727958388337, 'update_timestamp_ms': 1727958520876, 'start_timestamp_ms': 1727958498375, 'task_type': 'EXPORT_IMAGE', 'destination_uris': ['https://drive.google.com/#folders/1govcJTxphqKp72gUj1XCfop48vG5bh4A'], 'attempt': 1, 'batch_eecu_usage_seconds': 5.609631061553955, 'id': 'NFRSKS6AMEEKGMLPFIE6SMB6', 'name': 'projects/ee-dianamarkovakn/operations/NFRSKS6AMEEKGMLPFIE6SMB6'}\n",
            "{'state': 'COMPLETED', 'description': 'LT05_184030_20090512', 'priority': 100, 'creation_timestamp_ms': 1727958387071, 'update_timestamp_ms': 1727958507720, 'start_timestamp_ms': 1727958490794, 'task_type': 'EXPORT_IMAGE', 'destination_uris': ['https://drive.google.com/#folders/1govcJTxphqKp72gUj1XCfop48vG5bh4A'], 'attempt': 1, 'batch_eecu_usage_seconds': 2.5698981285095215, 'id': 'QL43CEK2GP7V54NR735QAN5O', 'name': 'projects/ee-dianamarkovakn/operations/QL43CEK2GP7V54NR735QAN5O'}\n",
            "{'state': 'COMPLETED', 'description': 'LC08_184030_20141001', 'priority': 100, 'creation_timestamp_ms': 1727958385756, 'update_timestamp_ms': 1727958516946, 'start_timestamp_ms': 1727958490834, 'task_type': 'EXPORT_IMAGE', 'destination_uris': ['https://drive.google.com/#folders/1govcJTxphqKp72gUj1XCfop48vG5bh4A'], 'attempt': 1, 'batch_eecu_usage_seconds': 3.5328609943389893, 'id': 'ZNREHSZC57WPRANTWBGHPQAM', 'name': 'projects/ee-dianamarkovakn/operations/ZNREHSZC57WPRANTWBGHPQAM'}\n",
            "{'state': 'COMPLETED', 'description': 'LT05_184030_20110923', 'priority': 100, 'creation_timestamp_ms': 1727958384379, 'update_timestamp_ms': 1727958484378, 'start_timestamp_ms': 1727958466781, 'task_type': 'EXPORT_IMAGE', 'destination_uris': ['https://drive.google.com/#folders/1govcJTxphqKp72gUj1XCfop48vG5bh4A'], 'attempt': 1, 'batch_eecu_usage_seconds': 2.638533115386963, 'id': 'EULKTWNUAIZ3GSNQKOPLPX3E', 'name': 'projects/ee-dianamarkovakn/operations/EULKTWNUAIZ3GSNQKOPLPX3E'}\n",
            "{'state': 'COMPLETED', 'description': 'LT05_184030_20050210', 'priority': 100, 'creation_timestamp_ms': 1727958382703, 'update_timestamp_ms': 1727958485534, 'start_timestamp_ms': 1727958466785, 'task_type': 'EXPORT_IMAGE', 'destination_uris': ['https://drive.google.com/#folders/1govcJTxphqKp72gUj1XCfop48vG5bh4A'], 'attempt': 1, 'batch_eecu_usage_seconds': 2.8597116470336914, 'id': 'SVT5TOASBOQQ7Q4UY7RTZKRO', 'name': 'projects/ee-dianamarkovakn/operations/SVT5TOASBOQQ7Q4UY7RTZKRO'}\n",
            "{'state': 'COMPLETED', 'description': 'LT05_184030_20070726', 'priority': 100, 'creation_timestamp_ms': 1727958381454, 'update_timestamp_ms': 1727958482239, 'start_timestamp_ms': 1727958460135, 'task_type': 'EXPORT_IMAGE', 'destination_uris': ['https://drive.google.com/#folders/1govcJTxphqKp72gUj1XCfop48vG5bh4A'], 'attempt': 1, 'batch_eecu_usage_seconds': 5.694221019744873, 'id': 'VG34Y4GFLXRLKNDRN7EQHCPH', 'name': 'projects/ee-dianamarkovakn/operations/VG34Y4GFLXRLKNDRN7EQHCPH'}\n",
            "{'state': 'COMPLETED', 'description': 'LT05_184030_20070624', 'priority': 100, 'creation_timestamp_ms': 1727958380155, 'update_timestamp_ms': 1727958517991, 'start_timestamp_ms': 1727958454156, 'task_type': 'EXPORT_IMAGE', 'destination_uris': ['https://drive.google.com/#folders/1govcJTxphqKp72gUj1XCfop48vG5bh4A'], 'attempt': 1, 'batch_eecu_usage_seconds': 3.389408588409424, 'id': 'U2SPYE26A4XPKVHB2LHVNR4O', 'name': 'projects/ee-dianamarkovakn/operations/U2SPYE26A4XPKVHB2LHVNR4O'}\n",
            "{'state': 'COMPLETED', 'description': 'LT05_184030_20060520', 'priority': 100, 'creation_timestamp_ms': 1727958378770, 'update_timestamp_ms': 1727958460352, 'start_timestamp_ms': 1727958441786, 'task_type': 'EXPORT_IMAGE', 'destination_uris': ['https://drive.google.com/#folders/1govcJTxphqKp72gUj1XCfop48vG5bh4A'], 'attempt': 1, 'batch_eecu_usage_seconds': 4.460586071014404, 'id': 'YYPL5D5QYFG3AWXPYCC2L47H', 'name': 'projects/ee-dianamarkovakn/operations/YYPL5D5QYFG3AWXPYCC2L47H'}\n",
            "{'state': 'COMPLETED', 'description': 'LT05_184030_20060504', 'priority': 100, 'creation_timestamp_ms': 1727958377174, 'update_timestamp_ms': 1727958455398, 'start_timestamp_ms': 1727958435575, 'task_type': 'EXPORT_IMAGE', 'destination_uris': ['https://drive.google.com/#folders/1govcJTxphqKp72gUj1XCfop48vG5bh4A'], 'attempt': 1, 'batch_eecu_usage_seconds': 4.309948444366455, 'id': 'CRTTFWQYKGYFOHD24FR2E5NM', 'name': 'projects/ee-dianamarkovakn/operations/CRTTFWQYKGYFOHD24FR2E5NM'}\n",
            "{'state': 'COMPLETED', 'description': 'LT05_184030_20070928', 'priority': 100, 'creation_timestamp_ms': 1727958375851, 'update_timestamp_ms': 1727958452758, 'start_timestamp_ms': 1727958435629, 'task_type': 'EXPORT_IMAGE', 'destination_uris': ['https://drive.google.com/#folders/1govcJTxphqKp72gUj1XCfop48vG5bh4A'], 'attempt': 1, 'batch_eecu_usage_seconds': 2.771204710006714, 'id': 'E5ZK36KP2VEEA4OSDYTJLWI2', 'name': 'projects/ee-dianamarkovakn/operations/E5ZK36KP2VEEA4OSDYTJLWI2'}\n",
            "{'state': 'COMPLETED', 'description': 'LT05_184030_20061027', 'priority': 100, 'creation_timestamp_ms': 1727958374343, 'update_timestamp_ms': 1727958443955, 'start_timestamp_ms': 1727958424451, 'task_type': 'EXPORT_IMAGE', 'destination_uris': ['https://drive.google.com/#folders/1govcJTxphqKp72gUj1XCfop48vG5bh4A'], 'attempt': 1, 'batch_eecu_usage_seconds': 3.859921932220459, 'id': 'ROT22B5LWCWMYWV3L7SSIT7C', 'name': 'projects/ee-dianamarkovakn/operations/ROT22B5LWCWMYWV3L7SSIT7C'}\n",
            "{'state': 'COMPLETED', 'description': 'LT05_184030_20000128', 'priority': 100, 'creation_timestamp_ms': 1727958372741, 'update_timestamp_ms': 1727958432026, 'start_timestamp_ms': 1727958411325, 'task_type': 'EXPORT_IMAGE', 'destination_uris': ['https://drive.google.com/#folders/1govcJTxphqKp72gUj1XCfop48vG5bh4A'], 'attempt': 1, 'batch_eecu_usage_seconds': 4.600959300994873, 'id': '6JLL3CJMRSAHLLJEKVWIQE5P', 'name': 'projects/ee-dianamarkovakn/operations/6JLL3CJMRSAHLLJEKVWIQE5P'}\n",
            "{'state': 'COMPLETED', 'description': 'LE07_184030_20000628', 'priority': 100, 'creation_timestamp_ms': 1727958370952, 'update_timestamp_ms': 1727958427923, 'start_timestamp_ms': 1727958411295, 'task_type': 'EXPORT_IMAGE', 'destination_uris': ['https://drive.google.com/#folders/1govcJTxphqKp72gUj1XCfop48vG5bh4A'], 'attempt': 1, 'batch_eecu_usage_seconds': 1.9932610988616943, 'id': 'NAAP7H76XK3PRS6OXR5FJQB5', 'name': 'projects/ee-dianamarkovakn/operations/NAAP7H76XK3PRS6OXR5FJQB5'}\n",
            "{'state': 'COMPLETED', 'description': 'LE07_184030_20000612', 'priority': 100, 'creation_timestamp_ms': 1727958369219, 'update_timestamp_ms': 1727958420405, 'start_timestamp_ms': 1727958400448, 'task_type': 'EXPORT_IMAGE', 'destination_uris': ['https://drive.google.com/#folders/1govcJTxphqKp72gUj1XCfop48vG5bh4A'], 'attempt': 1, 'batch_eecu_usage_seconds': 4.699021339416504, 'id': 'ENLYXUJREY44ONN3KU37UDPH', 'name': 'projects/ee-dianamarkovakn/operations/ENLYXUJREY44ONN3KU37UDPH'}\n",
            "{'state': 'COMPLETED', 'description': 'LE07_184030_20000527', 'priority': 100, 'creation_timestamp_ms': 1727958367418, 'update_timestamp_ms': 1727958396761, 'start_timestamp_ms': 1727958375286, 'task_type': 'EXPORT_IMAGE', 'destination_uris': ['https://drive.google.com/#folders/1T0_Um-5iYqfCjk0_tPXn-TRGceLM5PE3'], 'attempt': 1, 'batch_eecu_usage_seconds': 2.450612783432007, 'id': '55QMUA2MW7LQ3JW4IIXIXZF6', 'name': 'projects/ee-dianamarkovakn/operations/55QMUA2MW7LQ3JW4IIXIXZF6'}\n",
            "{'state': 'COMPLETED', 'description': 'LT05_184030_19990415', 'priority': 100, 'creation_timestamp_ms': 1727958365715, 'update_timestamp_ms': 1727958394028, 'start_timestamp_ms': 1727958375287, 'task_type': 'EXPORT_IMAGE', 'destination_uris': ['https://drive.google.com/#folders/19HpXCmKboyIo2TdElhhdsSxCeEmred_3'], 'attempt': 1, 'batch_eecu_usage_seconds': 2.7437400817871094, 'id': '5RLI7FILQA235AZABHL65VKR', 'name': 'projects/ee-dianamarkovakn/operations/5RLI7FILQA235AZABHL65VKR'}\n",
            "{'state': 'COMPLETED', 'description': 'LE07_184030_20010919', 'priority': 100, 'creation_timestamp_ms': 1727958364174, 'update_timestamp_ms': 1727958397114, 'start_timestamp_ms': 1727958375302, 'task_type': 'EXPORT_IMAGE', 'destination_uris': ['https://drive.google.com/#folders/1qYnhjJRSZHn1Lf4dGebRamQd-n6O-tZi'], 'attempt': 1, 'batch_eecu_usage_seconds': 3.240114450454712, 'id': 'LPVDO3WX6NWLNTNMRBJUGSHM', 'name': 'projects/ee-dianamarkovakn/operations/LPVDO3WX6NWLNTNMRBJUGSHM'}\n",
            "{'state': 'COMPLETED', 'description': 'LE07_184030_19990930', 'priority': 100, 'creation_timestamp_ms': 1727958362333, 'update_timestamp_ms': 1727958399922, 'start_timestamp_ms': 1727958375314, 'task_type': 'EXPORT_IMAGE', 'destination_uris': ['https://drive.google.com/#folders/1govcJTxphqKp72gUj1XCfop48vG5bh4A'], 'attempt': 1, 'batch_eecu_usage_seconds': 3.394534111022949, 'id': 'QXWSQIRACD6QCRAZUKL4TZAU', 'name': 'projects/ee-dianamarkovakn/operations/QXWSQIRACD6QCRAZUKL4TZAU'}\n",
            "{'state': 'COMPLETED', 'description': 'LE07_184030_19990930', 'priority': 100, 'creation_timestamp_ms': 1727957950250, 'update_timestamp_ms': 1727957976876, 'start_timestamp_ms': 1727957957438, 'task_type': 'EXPORT_IMAGE', 'destination_uris': ['https://drive.google.com/#folders/1OYjYiLeRHbqjU83D-5IgUqKPRjFylgOS'], 'attempt': 1, 'batch_eecu_usage_seconds': 4.682156562805176, 'id': 'E6G7MSJOP2DZ7F3PL7HPOQO4', 'name': 'projects/ee-dianamarkovakn/operations/E6G7MSJOP2DZ7F3PL7HPOQO4'}\n",
            "{'state': 'COMPLETED', 'description': 'LE07_184030_19990930', 'priority': 100, 'creation_timestamp_ms': 1727957561703, 'update_timestamp_ms': 1727957589854, 'start_timestamp_ms': 1727957572265, 'task_type': 'EXPORT_IMAGE', 'destination_uris': ['https://drive.google.com/#folders/1OYjYiLeRHbqjU83D-5IgUqKPRjFylgOS'], 'attempt': 1, 'batch_eecu_usage_seconds': 2.7325992584228516, 'id': 'UAE3SBRT6FXCBM6W2BEAHM5Q', 'name': 'projects/ee-dianamarkovakn/operations/UAE3SBRT6FXCBM6W2BEAHM5Q'}\n"
          ]
        }
      ]
    }
  ]
}